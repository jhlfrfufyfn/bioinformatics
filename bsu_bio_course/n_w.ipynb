{
 "cells": [
  {
   "cell_type": "code",
   "execution_count": 27,
   "metadata": {
    "id": "dOhGJh3SHPI6"
   },
   "outputs": [],
   "source": [
    "d = -1\n",
    "s_val =1   \n",
    "\n",
    "def nw(first_string,second_string):\n",
    "  (n,m) = (len(first_string), len(second_string))\n",
    "  matrix = []\n",
    "  for _ in range(m+1):\n",
    "    matrix.append([0]*(n+1))\n",
    "  for i in range(n+1):\n",
    "    matrix[0][i] = d*i\n",
    "  for i in range(m+1):\n",
    "    matrix[i][0] = d*i\n",
    "\n",
    "  for i in range(1,n+1):\n",
    "    for j in range(1,m+1):\n",
    "      if (first_string[i-1]==second_string[j-1]):\n",
    "        tmp = matrix[i-1][j-1] + s_val\n",
    "      else:\n",
    "        tmp = matrix[i-1][j-1] - s_val\n",
    "\n",
    "      matrix[j][i] = max(tmp, matrix[j][i-1] + d, matrix[j-1][i] + d) \n",
    "\n",
    "\n",
    "  (alignment_a, alignment_b) = (\"\", \"\")\n",
    "  i, j = n, m\n",
    "  while (i>0) and (j>0):\n",
    "    curr_score = matrix[j][i]\n",
    "    score_diag = matrix[j-1][i-1]\n",
    "    score_left = matrix[j][i-1]\n",
    "    if curr_score == score_diag + s_val if (first_string[i-1]==second_string[j-1]) else -s_val:\n",
    "      alignment_a = first_string[i-1] + alignment_a\n",
    "      alignment_b = second_string[j-1] + alignment_b\n",
    "      i -= 1\n",
    "      j -= 1\n",
    "    elif curr_score == score_left + d:\n",
    "      alignment_a = first_string[i-1] + alignment_a\n",
    "      alignment_b = \"-\" + alignment_b\n",
    "      i -= 1\n",
    "    else:\n",
    "      alignment_a = \"-\" + alignment_a\n",
    "      alignment_b = second_string[j-1] + alignment_b\n",
    "      j -= 1\n",
    "  while i>0:\n",
    "      alignment_a = first_string[i-1] + alignment_a\n",
    "      alignment_b = \"-\" + alignment_b\n",
    "      i -= 1\n",
    "  while j>0:\n",
    "      alignment_a = \"-\" + alignment_a\n",
    "      alignment_b = second_string[j-1] + alignment_b\n",
    "      j -= 1\n",
    "  print(\"Matrix:\")\n",
    "  for i in range(m+1):\n",
    "    print(matrix[i])\n",
    "  return alignment_a,alignment_b"
   ]
  },
  {
   "cell_type": "code",
   "execution_count": 28,
   "metadata": {
    "colab": {
     "base_uri": "https://localhost:8080/"
    },
    "id": "hwBEagp2LkaX",
    "outputId": "ecc3ce8f-340f-4c5d-b5e4-8bf5d387aae9"
   },
   "outputs": [
    {
     "name": "stdout",
     "output_type": "stream",
     "text": [
      "Matrix:\n",
      "[0, -1, -2, -3, -4, -5, -6, -7]\n",
      "[-1, 1, 0, -1, -2, -3, -4, -5]\n",
      "[-2, 0, 0, 1, 0, -1, -2, -3]\n",
      "[-3, -1, -1, 0, 0, -1, -2, 0]\n",
      "[-4, -2, -1, 0, 1, 0, 0, -1]\n",
      "[-5, -3, -1, 1, 0, 0, -1, -2]\n",
      "[-6, -4, 1, 0, -1, -1, 1, 0]\n",
      "[-7, -5, 0, 1, 0, -1, 0, 0]\n",
      "\n",
      "Alignments: ('CGTACGC', 'CTAATGT')\n"
     ]
    }
   ],
   "source": [
    "first_string = 'CGTACGC'\n",
    "second_string = 'CTAATGT'\n",
    "res = nw(first_string,second_string)\n",
    "print(f\"\\nAlignments: {res}\" )"
   ]
  },
  {
   "cell_type": "code",
   "execution_count": 29,
   "metadata": {},
   "outputs": [
    {
     "name": "stdout",
     "output_type": "stream",
     "text": [
      "Matrix:\n",
      "[0, -1, -2, -3, -4, -5]\n",
      "[-1, 1, 0, -1, -2, -3]\n",
      "[-2, 0, 0, -1, 0, -1]\n",
      "[-3, -1, -1, -1, -1, 0]\n",
      "[-4, -2, -1, -2, -2, -1]\n",
      "[-5, -3, 1, 1, 0, -1]\n"
     ]
    },
    {
     "data": {
      "text/plain": [
       "('GTTAC', 'GACGT')"
      ]
     },
     "execution_count": 29,
     "metadata": {},
     "output_type": "execute_result"
    }
   ],
   "source": [
    "s1 = 'GTTAC'\n",
    "s2 = 'GACGT'\n",
    "nw(s1, s2)"
   ]
  },
  {
   "cell_type": "code",
   "execution_count": null,
   "metadata": {},
   "outputs": [],
   "source": []
  }
 ],
 "metadata": {
  "colab": {
   "collapsed_sections": [],
   "name": "Needleman_Wunsch_algorithm.ipynb",
   "provenance": []
  },
  "kernelspec": {
   "display_name": "Python 3 (ipykernel)",
   "language": "python",
   "name": "python3"
  },
  "language_info": {
   "codemirror_mode": {
    "name": "ipython",
    "version": 3
   },
   "file_extension": ".py",
   "mimetype": "text/x-python",
   "name": "python",
   "nbconvert_exporter": "python",
   "pygments_lexer": "ipython3",
   "version": "3.8.10"
  }
 },
 "nbformat": 4,
 "nbformat_minor": 4
}
