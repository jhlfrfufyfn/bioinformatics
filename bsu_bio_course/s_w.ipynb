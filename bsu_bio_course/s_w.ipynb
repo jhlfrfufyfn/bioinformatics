{
 "cells": [
  {
   "cell_type": "code",
   "execution_count": 11,
   "metadata": {},
   "outputs": [],
   "source": [
    "def getHMatrix(first_string, second_string):\n",
    "    (n, m) = (len(first_string), len(second_string))\n",
    "    H = []\n",
    "    for _ in range(m+1):\n",
    "        H.append([0]*(n+1))\n",
    "    for j in range(1, m + 1):\n",
    "        for i in range(1, n + 1):\n",
    "            diagonal_element = H[j - 1][i - 1] + (3 if (first_string[i - 1] == second_string[j - 1]) else -3);\n",
    "            diagonal_element = H[j - 1][i - 1] + (3 if (first_string[i - 1]== second_string[j - 1]) else -3);\n",
    "            left_element = 0\n",
    "            for l in range(1, j + 1):\n",
    "                left_element = max(left_element, H[j - l][i] - 2 * l)\n",
    "            right_element = 0\n",
    "            for k in range(1, i + 1):\n",
    "                right_element = max(right_element, H[j][i - k] - 2 * k)\n",
    "            H[j][i] = max(diagonal_element, left_element, right_element)\n",
    "    return H"
   ]
  },
  {
   "cell_type": "code",
   "execution_count": 12,
   "metadata": {
    "id": "MX8YKY1HRdKV"
   },
   "outputs": [],
   "source": [
    "\n",
    "def sw(first_string, second_string):\n",
    "  (n, m) = (len(first_string),len(second_string))\n",
    "  m = len(second_string)\n",
    "  H = getHMatrix(first_string, second_string)\n",
    "  i_max = 1 \n",
    "  j_max = 1\n",
    "  max_val = H[1][1]\n",
    "  for j in range(1, m + 1):\n",
    "      for i in range(1, n + 1):\n",
    "          if H[j][i] > max_val:\n",
    "            i_max = i\n",
    "            j_max = j\n",
    "            max_val = H[j][i]\n",
    "  (alignment_a, alignment_b) = (\"\", \"\")\n",
    "  (i, j) = (i_max, j_max)\n",
    "  while (i>0) and (j>0):\n",
    "      score_diag = H[j-1][i-1]\n",
    "      score_up = H[j-1][i]\n",
    "      score_left = H[j][i-1] \n",
    "      max_of_scores = max(score_diag,score_up,score_left)\n",
    "      min_of_scores = min(score_diag,score_up,score_left)\n",
    "      if min_of_scores!=0:\n",
    "          if max_of_scores == score_diag:\n",
    "              alignment_a = first_string[i-1] + alignment_a\n",
    "              alignment_b = second_string[j-1] + alignment_b\n",
    "              i -= 1\n",
    "              j -= 1\n",
    "          elif max_of_scores == score_left:\n",
    "              alignment_a = second_string[i-1] + alignment_a\n",
    "              alignment_b = \"-\" + alignment_b\n",
    "              i -= 1\n",
    "          elif max_of_scores == score_up:\n",
    "              alignment_a = \"-\" + alignment_a\n",
    "              alignment_b = second_string[j-1] + alignment_b\n",
    "              j -= 1\n",
    "      else:\n",
    "          if score_diag == 0:\n",
    "              alignment_a = second_string[i-1] + alignment_a\n",
    "              alignment_b = second_string[j-1] + alignment_b\n",
    "              break\n",
    "          elif score_left==0:\n",
    "              alignment_a = second_string[i-1] + alignment_a\n",
    "              alignment_b = \"-\" + alignment_b\n",
    "              break\n",
    "          elif score_up == 0:\n",
    "              alignment_a = \"-\" + alignment_a\n",
    "              alignment_b = second_string[j-1] + alignment_b\n",
    "              break\n",
    "  print(\"Matrix:\")\n",
    "  for i in range(m+1):\n",
    "    print(H[i])\n",
    "    \n",
    "  return alignment_a, alignment_b"
   ]
  },
  {
   "cell_type": "code",
   "execution_count": 13,
   "metadata": {
    "colab": {
     "base_uri": "https://localhost:8080/"
    },
    "id": "gHHFPAYlY8zB",
    "outputId": "fa74c1f0-e8e5-4610-aa5e-6a4ecd6eef59"
   },
   "outputs": [
    {
     "name": "stdout",
     "output_type": "stream",
     "text": [
      "Matrix:\n",
      "[0, 0, 0, 0, 0, 0, 0, 0, 0]\n",
      "[0, 0, 3, 1, 0, 0, 0, 3, 3]\n",
      "[0, 0, 3, 1, 0, 0, 0, 3, 6]\n",
      "[0, 3, 1, 6, 4, 2, 0, 1, 4]\n",
      "[0, 3, 1, 4, 9, 7, 5, 3, 2]\n",
      "[0, 1, 6, 4, 7, 6, 4, 8, 6]\n",
      "[0, 0, 4, 3, 5, 10, 8, 6, 5]\n",
      "[0, 0, 2, 1, 3, 8, 13, 11, 9]\n",
      "[0, 3, 1, 5, 4, 6, 11, 10, 8]\n",
      "[0, 1, 0, 3, 2, 7, 9, 8, 7]\n",
      "\n",
      "Alignments: ('CAA-TG', 'CAACTG')\n"
     ]
    }
   ],
   "source": [
    "first_string = \"ACAATGCC\"\n",
    "second_string = \"CCAACTGAT\"\n",
    "res = sw(first_string,second_string)\n",
    "print(f\"\\nAlignments: {res}\" )"
   ]
  }
 ],
 "metadata": {
  "colab": {
   "name": "Smith_Waterman_algorithm.ipynb",
   "provenance": []
  },
  "kernelspec": {
   "display_name": "Python 3 (ipykernel)",
   "language": "python",
   "name": "python3"
  },
  "language_info": {
   "codemirror_mode": {
    "name": "ipython",
    "version": 3
   },
   "file_extension": ".py",
   "mimetype": "text/x-python",
   "name": "python",
   "nbconvert_exporter": "python",
   "pygments_lexer": "ipython3",
   "version": "3.8.10"
  }
 },
 "nbformat": 4,
 "nbformat_minor": 4
}
