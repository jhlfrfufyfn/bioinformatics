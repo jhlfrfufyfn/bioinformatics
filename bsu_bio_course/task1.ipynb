{
 "cells": [
  {
   "cell_type": "code",
   "execution_count": 1,
   "id": "f9e28e92-6b53-4776-b82a-23a10732bb0d",
   "metadata": {},
   "outputs": [
    {
     "name": "stdout",
     "output_type": "stream",
     "text": [
      "Requirement already satisfied: bio in /home/jhlfrfufyfn/opt/miniconda3/lib/python3.9/site-packages (1.3.3)\n",
      "Requirement already satisfied: biopython>=1.79 in /home/jhlfrfufyfn/opt/miniconda3/lib/python3.9/site-packages (from bio) (1.79)\n",
      "Requirement already satisfied: mygene in /home/jhlfrfufyfn/opt/miniconda3/lib/python3.9/site-packages (from bio) (3.2.2)\n",
      "Requirement already satisfied: requests in /home/jhlfrfufyfn/opt/miniconda3/lib/python3.9/site-packages (from bio) (2.25.1)\n",
      "Requirement already satisfied: tqdm in /home/jhlfrfufyfn/opt/miniconda3/lib/python3.9/site-packages (from bio) (4.61.2)\n",
      "Requirement already satisfied: numpy in /home/jhlfrfufyfn/opt/miniconda3/lib/python3.9/site-packages (from biopython>=1.79->bio) (1.22.3)\n",
      "Requirement already satisfied: biothings-client>=0.2.6 in /home/jhlfrfufyfn/opt/miniconda3/lib/python3.9/site-packages (from mygene->bio) (0.2.6)\n",
      "Requirement already satisfied: chardet<5,>=3.0.2 in /home/jhlfrfufyfn/opt/miniconda3/lib/python3.9/site-packages (from requests->bio) (4.0.0)\n",
      "Requirement already satisfied: urllib3<1.27,>=1.21.1 in /home/jhlfrfufyfn/opt/miniconda3/lib/python3.9/site-packages (from requests->bio) (1.26.6)\n",
      "Requirement already satisfied: certifi>=2017.4.17 in /home/jhlfrfufyfn/opt/miniconda3/lib/python3.9/site-packages (from requests->bio) (2021.10.8)\n",
      "Requirement already satisfied: idna<3,>=2.5 in /home/jhlfrfufyfn/opt/miniconda3/lib/python3.9/site-packages (from requests->bio) (2.10)\n"
     ]
    }
   ],
   "source": [
    "!pip install bio"
   ]
  },
  {
   "cell_type": "code",
   "execution_count": 2,
   "id": "ed578524-2e4f-4689-b25f-2aa5ff93bd98",
   "metadata": {},
   "outputs": [],
   "source": [
    "from Bio.Seq import Seq\n",
    "from Bio import SeqIO\n"
   ]
  },
  {
   "cell_type": "code",
   "execution_count": 3,
   "id": "a2407582-9c1f-45f7-948d-2db1807f764d",
   "metadata": {},
   "outputs": [],
   "source": [
    "\n",
    "records = SeqIO.parse(\"reads.fastq\", \"fastq\")\n",
    "filtered_records = []"
   ]
  },
  {
   "cell_type": "code",
   "execution_count": 4,
   "id": "7e2f44f5-b034-4348-8deb-5a61ed105ac7",
   "metadata": {},
   "outputs": [],
   "source": [
    "valid = \"ACTG\""
   ]
  },
  {
   "cell_type": "code",
   "execution_count": null,
   "id": "4fe89e27-5513-494a-9900-4401b40f69bd",
   "metadata": {},
   "outputs": [],
   "source": [
    "for record in records:\n",
    "    print(len(record.seq))\n",
    "    if len(record.seq) < 200:\n",
    "        continue\n",
    "    if not all(symbol in valid for symbol in record.seq):\n",
    "        continue\n",
    "    filtered_records.append(record)"
   ]
  },
  {
   "cell_type": "code",
   "execution_count": 6,
   "id": "2eb54fcf-daa1-4f7e-b58d-1ca492720f6c",
   "metadata": {},
   "outputs": [],
   "source": [
    "with open(\"reads_filtered.fq\", \"w\") as output_file:\n",
    "    SeqIO.write(filtered_records, \"reads_filtered.fq\", \"fastq\") "
   ]
  }
 ],
 "metadata": {
  "kernelspec": {
   "display_name": "Python 3 (ipykernel)",
   "language": "python",
   "name": "python3"
  },
  "language_info": {
   "codemirror_mode": {
    "name": "ipython",
    "version": 3
   },
   "file_extension": ".py",
   "mimetype": "text/x-python",
   "name": "python",
   "nbconvert_exporter": "python",
   "pygments_lexer": "ipython3",
   "version": "3.9.7"
  }
 },
 "nbformat": 4,
 "nbformat_minor": 5
}
