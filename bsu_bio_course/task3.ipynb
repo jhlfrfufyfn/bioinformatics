{
 "cells": [
  {
   "cell_type": "code",
   "execution_count": 1,
   "id": "e4823ee3-4562-4c79-bed3-e4cd982702c2",
   "metadata": {},
   "outputs": [],
   "source": [
    "from Bio import SeqIO"
   ]
  },
  {
   "cell_type": "code",
   "execution_count": 21,
   "id": "2f0af7f3-7cb3-45b0-8bb9-a0bf5cb90fe9",
   "metadata": {},
   "outputs": [],
   "source": [
    "\n",
    "record = SeqIO.read(\"NC_000913.gbk\", \"genbank\")\n"
   ]
  },
  {
   "cell_type": "code",
   "execution_count": 22,
   "id": "c6b6466d-c991-4d38-bdc2-ac4a8b262250",
   "metadata": {},
   "outputs": [
    {
     "name": "stdout",
     "output_type": "stream",
     "text": [
      "Total length of genome is 4639675\n"
     ]
    }
   ],
   "source": [
    "print(\"Total length of genome is \" + str(len(record)))\n",
    "\n",
    "    "
   ]
  },
  {
   "cell_type": "code",
   "execution_count": 23,
   "id": "30fb678b-5cc3-40d2-ade8-b4c092beb951",
   "metadata": {},
   "outputs": [],
   "source": [
    "totals = dict()\n",
    "counts = dict()"
   ]
  },
  {
   "cell_type": "code",
   "execution_count": null,
   "id": "78d7b51c-9071-470c-ad1a-cdf8c481f556",
   "metadata": {},
   "outputs": [],
   "source": [
    "for feature in record.features:\n",
    "    totals[feature.type] = totals.get(feature.type, 0) + feature.location.end - feature.location.start + 1\n",
    "    counts[feature.type] = counts.get(feature.type, 0) + 1"
   ]
  },
  {
   "cell_type": "code",
   "execution_count": 25,
   "id": "24fe4abe-9ff6-4cdc-8001-83b930bb0f2b",
   "metadata": {},
   "outputs": [
    {
     "name": "stdout",
     "output_type": "stream",
     "text": [
      "source\n",
      "- total number: 1\n",
      "- total length: 4639676\n",
      "- average length: 4639676.0\n",
      "gene\n",
      "- total number: 4497\n",
      "- total length: 4183255\n",
      "- average length: 930.2323771403157\n",
      "CDS\n",
      "- total number: 4321\n",
      "- total length: 4135652\n",
      "- average length: 957.1052996991438\n",
      "misc_feature\n",
      "- total number: 13696\n",
      "- total length: 7488393\n",
      "- average length: 546.7576664719626\n",
      "repeat_region\n",
      "- total number: 355\n",
      "- total length: 29378\n",
      "- average length: 82.7549295774648\n",
      "mat_peptide\n",
      "- total number: 504\n",
      "- total length: 531921\n",
      "- average length: 1055.3988095238096\n",
      "mobile_element\n",
      "- total number: 47\n",
      "- total length: 49559\n",
      "- average length: 1054.4468085106382\n",
      "ncRNA\n",
      "- total number: 63\n",
      "- total length: 8174\n",
      "- average length: 129.74603174603175\n",
      "STS\n",
      "- total number: 49\n",
      "- total length: 16430\n",
      "- average length: 335.3061224489796\n",
      "rRNA\n",
      "- total number: 22\n",
      "- total length: 32105\n",
      "- average length: 1459.3181818181818\n",
      "tRNA\n",
      "- total number: 89\n",
      "- total length: 6945\n",
      "- average length: 78.03370786516854\n",
      "tmRNA\n",
      "- total number: 2\n",
      "- total length: 379\n",
      "- average length: 189.5\n",
      "rep_origin\n",
      "- total number: 1\n",
      "- total length: 233\n",
      "- average length: 233.0\n"
     ]
    }
   ],
   "source": [
    "for key, value in totals.items():\n",
    "    print(key)\n",
    "    print(f\"- total number: {counts[key]}\")\n",
    "    print(f\"- total length: {totals[key]}\")\n",
    "    print(f\"- average length: {totals[key] / counts[key]}\")"
   ]
  }
 ],
 "metadata": {
  "kernelspec": {
   "display_name": "Python 3 (ipykernel)",
   "language": "python",
   "name": "python3"
  },
  "language_info": {
   "codemirror_mode": {
    "name": "ipython",
    "version": 3
   },
   "file_extension": ".py",
   "mimetype": "text/x-python",
   "name": "python",
   "nbconvert_exporter": "python",
   "pygments_lexer": "ipython3",
   "version": "3.9.7"
  }
 },
 "nbformat": 4,
 "nbformat_minor": 5
}
