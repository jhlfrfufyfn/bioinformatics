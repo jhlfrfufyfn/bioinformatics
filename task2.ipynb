{
 "cells": [
  {
   "cell_type": "code",
   "execution_count": 1,
   "id": "7ab1a43f-b233-4267-8291-252b68746ddf",
   "metadata": {},
   "outputs": [
    {
     "name": "stdout",
     "output_type": "stream",
     "text": [
      "Requirement already satisfied: pandas in /home/jhlfrfufyfn/opt/miniconda3/lib/python3.9/site-packages (1.4.1)\n",
      "Requirement already satisfied: numpy>=1.18.5 in /home/jhlfrfufyfn/opt/miniconda3/lib/python3.9/site-packages (from pandas) (1.22.3)\n",
      "Requirement already satisfied: pytz>=2020.1 in /home/jhlfrfufyfn/.local/lib/python3.9/site-packages (from pandas) (2021.3)\n",
      "Requirement already satisfied: python-dateutil>=2.8.1 in /home/jhlfrfufyfn/.local/lib/python3.9/site-packages (from pandas) (2.8.2)\n",
      "Requirement already satisfied: six>=1.5 in /home/jhlfrfufyfn/opt/miniconda3/lib/python3.9/site-packages (from python-dateutil>=2.8.1->pandas) (1.16.0)\n"
     ]
    }
   ],
   "source": [
    "!pip install pandas"
   ]
  },
  {
   "cell_type": "code",
   "execution_count": 2,
   "id": "7d798930-20ba-4802-9667-406958c893d4",
   "metadata": {},
   "outputs": [],
   "source": [
    "from Bio.Seq import Seq\n",
    "from Bio import SeqIO\n",
    "from Bio.SeqUtils import GC"
   ]
  },
  {
   "cell_type": "code",
   "execution_count": 3,
   "id": "744e23e7-f4f5-4023-8059-58861c17ecfa",
   "metadata": {},
   "outputs": [],
   "source": [
    "\n",
    "records = SeqIO.parse(\"reads.fastq\", \"fastq\")\n"
   ]
  },
  {
   "cell_type": "code",
   "execution_count": 4,
   "id": "eb8ad7c8-5baf-4514-b422-fe224aceab1b",
   "metadata": {},
   "outputs": [],
   "source": [
    "def Average(lst):\n",
    "    return sum(lst) / len(lst)\n",
    "  "
   ]
  },
  {
   "cell_type": "code",
   "execution_count": 5,
   "id": "c13d1590-267b-407e-a73e-1f79bdf103e2",
   "metadata": {},
   "outputs": [],
   "source": [
    "results = []\n",
    "for record in records:\n",
    "    results.append([record.id, len(record.seq), GC(record.seq), record.seq.count('A'), record.seq.count('G'), record.seq.count('T'), record.seq.count('C'), Average(record.letter_annotations['phred_quality'])])\n",
    "    #print(f\"ID = {record.id}, length = {len(record.seq)}, GC = {GC(record.seq)}, counted A = {record.seq.count('A')}, counted G = {record.seq.count('G')}, counted T = {record.seq.count('T')}, counted c = {record.seq.count('C')}, quality = {Average(record.letter_annotations['phred_quality'])}\")"
   ]
  },
  {
   "cell_type": "code",
   "execution_count": 6,
   "id": "a25e083e-e0de-409e-b07e-a009c41a2bb0",
   "metadata": {},
   "outputs": [],
   "source": [
    "import pandas as pd"
   ]
  },
  {
   "cell_type": "code",
   "execution_count": 7,
   "id": "362acd42-63d3-4320-af97-2d60dd2d819b",
   "metadata": {},
   "outputs": [],
   "source": [
    "table = pd.DataFrame.from_dict(results)"
   ]
  },
  {
   "cell_type": "code",
   "execution_count": 8,
   "id": "51468c45-9530-4cc2-83a9-3cab2ccd924e",
   "metadata": {},
   "outputs": [],
   "source": [
    "table.to_csv('result_table.csv')"
   ]
  }
 ],
 "metadata": {
  "kernelspec": {
   "display_name": "Python 3 (ipykernel)",
   "language": "python",
   "name": "python3"
  },
  "language_info": {
   "codemirror_mode": {
    "name": "ipython",
    "version": 3
   },
   "file_extension": ".py",
   "mimetype": "text/x-python",
   "name": "python",
   "nbconvert_exporter": "python",
   "pygments_lexer": "ipython3",
   "version": "3.9.7"
  }
 },
 "nbformat": 4,
 "nbformat_minor": 5
}
