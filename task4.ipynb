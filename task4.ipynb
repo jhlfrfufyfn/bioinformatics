{
 "cells": [
  {
   "cell_type": "code",
   "execution_count": 8,
   "id": "af5b9751-8902-4246-84d4-f9abe06c23bf",
   "metadata": {},
   "outputs": [],
   "source": [
    "from Bio import AlignIO\n",
    "alignment = AlignIO.read(\"fill4.sth\", \"stockholm\")"
   ]
  },
  {
   "cell_type": "code",
   "execution_count": 10,
   "id": "627e3600-5509-4ff0-88fb-45ad59ad93ff",
   "metadata": {},
   "outputs": [
    {
     "name": "stdout",
     "output_type": "stream",
     "text": [
      "fill4.sth had 12 records,\n",
      "Total gaps 54, average per record 4.5\n"
     ]
    }
   ],
   "source": [
    "gaps = 0\n",
    "for align in alignment:\n",
    "    gaps = gaps + align.seq.count(\"-\")\n",
    "print(f\"fill4.sth had {str(len(alignment))} records,\")\n",
    "print(f\"Total gaps {str(gaps)}, average per record {str(gaps / len(alignment))}\")"
   ]
  }
 ],
 "metadata": {
  "kernelspec": {
   "display_name": "Python 3 (ipykernel)",
   "language": "python",
   "name": "python3"
  },
  "language_info": {
   "codemirror_mode": {
    "name": "ipython",
    "version": 3
   },
   "file_extension": ".py",
   "mimetype": "text/x-python",
   "name": "python",
   "nbconvert_exporter": "python",
   "pygments_lexer": "ipython3",
   "version": "3.9.7"
  }
 },
 "nbformat": 4,
 "nbformat_minor": 5
}
